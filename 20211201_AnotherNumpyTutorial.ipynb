{
 "cells": [
  {
   "cell_type": "code",
   "execution_count": null,
   "id": "915f8e2f",
   "metadata": {},
   "outputs": [],
   "source": [
    "import numpy as np\n",
    "import time\n",
    "import sys"
   ]
  },
  {
   "cell_type": "code",
   "execution_count": 20,
   "id": "344187db",
   "metadata": {},
   "outputs": [],
   "source": [
    "a = np.array([[1,2,3],[4,5,6]])"
   ]
  },
  {
   "cell_type": "code",
   "execution_count": 21,
   "id": "1e351dbd",
   "metadata": {},
   "outputs": [
    {
     "name": "stdout",
     "output_type": "stream",
     "text": [
      "[[1 2 3]\n",
      " [4 5 6]]\n"
     ]
    }
   ],
   "source": [
    "print(a)"
   ]
  },
  {
   "cell_type": "code",
   "execution_count": 22,
   "id": "7f0c7f2f",
   "metadata": {},
   "outputs": [],
   "source": [
    "s = range(1000)"
   ]
  },
  {
   "cell_type": "code",
   "execution_count": 23,
   "id": "064afbf5",
   "metadata": {},
   "outputs": [
    {
     "name": "stdout",
     "output_type": "stream",
     "text": [
      "range(0, 1000)\n"
     ]
    }
   ],
   "source": [
    "print(s)"
   ]
  },
  {
   "cell_type": "code",
   "execution_count": 24,
   "id": "a777b058",
   "metadata": {},
   "outputs": [
    {
     "name": "stdout",
     "output_type": "stream",
     "text": [
      "28000\n"
     ]
    }
   ],
   "source": [
    "print(sys.getsizeof(5)*len(s))"
   ]
  },
  {
   "cell_type": "code",
   "execution_count": 11,
   "id": "17df08e5",
   "metadata": {},
   "outputs": [],
   "source": [
    "d = np.arange(1000)"
   ]
  },
  {
   "cell_type": "code",
   "execution_count": 14,
   "id": "47726ea3",
   "metadata": {},
   "outputs": [
    {
     "name": "stdout",
     "output_type": "stream",
     "text": [
      "4000\n"
     ]
    }
   ],
   "source": [
    "print(d.size*d.itemsize)"
   ]
  },
  {
   "cell_type": "code",
   "execution_count": 25,
   "id": "18326d95",
   "metadata": {},
   "outputs": [
    {
     "name": "stdout",
     "output_type": "stream",
     "text": [
      "1638368653474.876\n",
      "1638368653848.6218\n",
      "1638368653.8486218\n"
     ]
    }
   ],
   "source": [
    "size  = 1000\n",
    "\n",
    "l1 = range(size)\n",
    "l2 = range(size)\n",
    "a1 =np.arange(size)\n",
    "a2 = np.arange(size)\n",
    "\n",
    "start = time.time()\n",
    "\n",
    "result = [(x,y) for x,y in zip(l1,l2)]\n",
    "\n",
    "endlist = time.time()\n",
    "\n",
    "result2 = a1 + a2\n",
    "\n",
    "endarray = time.time()\n",
    "\n",
    "print (start*1000)\n",
    "print (endlist*1000)\n",
    "print (endarray)"
   ]
  },
  {
   "cell_type": "code",
   "execution_count": 27,
   "id": "507e39a1",
   "metadata": {},
   "outputs": [
    {
     "data": {
      "text/plain": [
       "dtype('int32')"
      ]
     },
     "execution_count": 27,
     "metadata": {},
     "output_type": "execute_result"
    }
   ],
   "source": [
    "a.dtype"
   ]
  },
  {
   "cell_type": "code",
   "execution_count": 28,
   "id": "e195a64e",
   "metadata": {},
   "outputs": [
    {
     "data": {
      "text/plain": [
       "(2, 3)"
      ]
     },
     "execution_count": 28,
     "metadata": {},
     "output_type": "execute_result"
    }
   ],
   "source": [
    "a.shape"
   ]
  },
  {
   "cell_type": "code",
   "execution_count": 30,
   "id": "a7441989",
   "metadata": {},
   "outputs": [],
   "source": [
    "a = np.linspace(1,10,100)"
   ]
  },
  {
   "cell_type": "code",
   "execution_count": 31,
   "id": "137949ec",
   "metadata": {},
   "outputs": [
    {
     "name": "stdout",
     "output_type": "stream",
     "text": [
      "[ 1.          1.09090909  1.18181818  1.27272727  1.36363636  1.45454545\n",
      "  1.54545455  1.63636364  1.72727273  1.81818182  1.90909091  2.\n",
      "  2.09090909  2.18181818  2.27272727  2.36363636  2.45454545  2.54545455\n",
      "  2.63636364  2.72727273  2.81818182  2.90909091  3.          3.09090909\n",
      "  3.18181818  3.27272727  3.36363636  3.45454545  3.54545455  3.63636364\n",
      "  3.72727273  3.81818182  3.90909091  4.          4.09090909  4.18181818\n",
      "  4.27272727  4.36363636  4.45454545  4.54545455  4.63636364  4.72727273\n",
      "  4.81818182  4.90909091  5.          5.09090909  5.18181818  5.27272727\n",
      "  5.36363636  5.45454545  5.54545455  5.63636364  5.72727273  5.81818182\n",
      "  5.90909091  6.          6.09090909  6.18181818  6.27272727  6.36363636\n",
      "  6.45454545  6.54545455  6.63636364  6.72727273  6.81818182  6.90909091\n",
      "  7.          7.09090909  7.18181818  7.27272727  7.36363636  7.45454545\n",
      "  7.54545455  7.63636364  7.72727273  7.81818182  7.90909091  8.\n",
      "  8.09090909  8.18181818  8.27272727  8.36363636  8.45454545  8.54545455\n",
      "  8.63636364  8.72727273  8.81818182  8.90909091  9.          9.09090909\n",
      "  9.18181818  9.27272727  9.36363636  9.45454545  9.54545455  9.63636364\n",
      "  9.72727273  9.81818182  9.90909091 10.        ]\n"
     ]
    }
   ],
   "source": [
    "print(a)"
   ]
  },
  {
   "cell_type": "code",
   "execution_count": 32,
   "id": "389c1136",
   "metadata": {},
   "outputs": [
    {
     "data": {
      "text/plain": [
       "array([1.        , 1.04446594, 1.08711461, 1.12815215, 1.16774842,\n",
       "       1.20604538, 1.24316312, 1.2792043 , 1.31425748, 1.34839972,\n",
       "       1.38169856, 1.41421356, 1.44599761, 1.47709789, 1.50755672,\n",
       "       1.53741223, 1.5666989 , 1.59544807, 1.62368828, 1.65144565,\n",
       "       1.67874412, 1.70560573, 1.73205081, 1.75809815, 1.78376517,\n",
       "       1.80906807, 1.83402191, 1.85864075, 1.88293774, 1.90692518,\n",
       "       1.9306146 , 1.95401684, 1.97714211, 2.        , 2.02259959,\n",
       "       2.04494943, 2.06705764, 2.08893187, 2.11057941, 2.13200716,\n",
       "       2.15322169, 2.17422923, 2.19503572, 2.21564684, 2.23606798,\n",
       "       2.2563043 , 2.27636073, 2.29624199, 2.31595258, 2.33549683,\n",
       "       2.35487888, 2.3741027 , 2.39317211, 2.41209076, 2.43086217,\n",
       "       2.44948974, 2.46797672, 2.48632624, 2.50454133, 2.5226249 ,\n",
       "       2.54057975, 2.5584086 , 2.57611406, 2.59369866, 2.61116484,\n",
       "       2.62851496, 2.64575131, 2.66287609, 2.67989145, 2.69679945,\n",
       "       2.7136021 , 2.73030135, 2.74689908, 2.76339712, 2.77979725,\n",
       "       2.79610118, 2.8123106 , 2.82842712, 2.84445234, 2.86038777,\n",
       "       2.87623491, 2.89199522, 2.90767011, 2.92326094, 2.93876907,\n",
       "       2.95419578, 2.96954236, 2.98481003, 3.        , 3.01511345,\n",
       "       3.03015151, 3.04511531, 3.06000594, 3.07482446, 3.0895719 ,\n",
       "       3.10424929, 3.1188576 , 3.13339781, 3.14787085, 3.16227766])"
      ]
     },
     "execution_count": 32,
     "metadata": {},
     "output_type": "execute_result"
    }
   ],
   "source": [
    "np.sqrt(a)"
   ]
  },
  {
   "cell_type": "code",
   "execution_count": 33,
   "id": "694f66d4",
   "metadata": {},
   "outputs": [
    {
     "data": {
      "text/plain": [
       "2.624188186156556"
      ]
     },
     "execution_count": 33,
     "metadata": {},
     "output_type": "execute_result"
    }
   ],
   "source": [
    "np.std(a)"
   ]
  },
  {
   "cell_type": "code",
   "execution_count": 34,
   "id": "ac616b8c",
   "metadata": {},
   "outputs": [
    {
     "ename": "AttributeError",
     "evalue": "'numpy.ndarray' object has no attribute 'sin'",
     "output_type": "error",
     "traceback": [
      "\u001b[1;31m---------------------------------------------------------------------------\u001b[0m",
      "\u001b[1;31mAttributeError\u001b[0m                            Traceback (most recent call last)",
      "\u001b[1;32m~\\AppData\\Local\\Temp/ipykernel_11328/425183237.py\u001b[0m in \u001b[0;36m<module>\u001b[1;34m\u001b[0m\n\u001b[1;32m----> 1\u001b[1;33m \u001b[0ma\u001b[0m\u001b[1;33m.\u001b[0m\u001b[0msin\u001b[0m\u001b[1;33m(\u001b[0m\u001b[1;33m)\u001b[0m\u001b[1;33m\u001b[0m\u001b[1;33m\u001b[0m\u001b[0m\n\u001b[0m",
      "\u001b[1;31mAttributeError\u001b[0m: 'numpy.ndarray' object has no attribute 'sin'"
     ]
    }
   ],
   "source": [
    "a.sin()"
   ]
  },
  {
   "cell_type": "code",
   "execution_count": 35,
   "id": "581a4bb2",
   "metadata": {},
   "outputs": [
    {
     "data": {
      "text/plain": [
       "array([ 0.84147098,  0.88704699,  0.92529707,  0.95590534,  0.978619  ,\n",
       "        0.99325047,  0.99967891,  0.99785123,  0.98778253,  0.96955595,\n",
       "        0.94332203,  0.90929743,  0.86776314,  0.8190622 ,  0.76359681,\n",
       "        0.70182505,  0.63425707,  0.56145091,  0.48400786,  0.40256749,\n",
       "        0.31780241,  0.23041267,  0.14112001,  0.05066187, -0.04021468,\n",
       "       -0.1307591 , -0.22022362, -0.30786935, -0.39297247, -0.47483011,\n",
       "       -0.55276624, -0.6261372 , -0.69433703, -0.7568025 , -0.8130177 ,\n",
       "       -0.86251837, -0.9048957 , -0.93979971, -0.96694212, -0.98609877,\n",
       "       -0.99711147, -0.99988924, -0.99440916, -0.98071647, -0.95892427,\n",
       "       -0.92921254, -0.89182665, -0.84707537, -0.79532828, -0.73701276,\n",
       "       -0.67261042, -0.60265314, -0.52771868, -0.44842592, -0.36542971,\n",
       "       -0.2794155 , -0.19109366, -0.10119362, -0.01045784,  0.0803643 ,\n",
       "        0.17052273,  0.25927286,  0.34588171,  0.429634  ,  0.50983804,\n",
       "        0.58583144,  0.6569866 ,  0.72271585,  0.78247636,  0.83577457,\n",
       "        0.88217031,  0.92128041,  0.95278186,  0.9764145 ,  0.99198316,\n",
       "        0.99935926,  0.99848187,  0.98935825,  0.97206374,  0.94674118,\n",
       "        0.9135997 ,  0.87291301,  0.82501713,  0.77030762,  0.70923631,\n",
       "        0.64230758,  0.57007418,  0.49313267,  0.41211849,  0.32770071,\n",
       "        0.24057653,  0.15146548,  0.06110351, -0.0297631 , -0.1203839 ,\n",
       "       -0.21001048, -0.29790263, -0.38333447, -0.46560043, -0.54402111])"
      ]
     },
     "execution_count": 35,
     "metadata": {},
     "output_type": "execute_result"
    }
   ],
   "source": [
    "np.sin(a)"
   ]
  },
  {
   "cell_type": "code",
   "execution_count": 36,
   "id": "665486a2",
   "metadata": {},
   "outputs": [
    {
     "data": {
      "text/plain": [
       "3.141592653589793"
      ]
     },
     "execution_count": 36,
     "metadata": {},
     "output_type": "execute_result"
    }
   ],
   "source": [
    "np.pi"
   ]
  },
  {
   "cell_type": "code",
   "execution_count": 37,
   "id": "e8877f8c",
   "metadata": {},
   "outputs": [
    {
     "data": {
      "text/plain": [
       "1.2246467991473532e-16"
      ]
     },
     "execution_count": 37,
     "metadata": {},
     "output_type": "execute_result"
    }
   ],
   "source": [
    "np.sin(np.pi)"
   ]
  },
  {
   "cell_type": "code",
   "execution_count": 38,
   "id": "375544bc",
   "metadata": {},
   "outputs": [
    {
     "data": {
      "text/plain": [
       "0.8939966636005579"
      ]
     },
     "execution_count": 38,
     "metadata": {},
     "output_type": "execute_result"
    }
   ],
   "source": [
    "np.sin(90)"
   ]
  },
  {
   "cell_type": "code",
   "execution_count": 39,
   "id": "084c9452",
   "metadata": {},
   "outputs": [
    {
     "data": {
      "text/plain": [
       "1.0"
      ]
     },
     "execution_count": 39,
     "metadata": {},
     "output_type": "execute_result"
    }
   ],
   "source": [
    "np.cos(0)"
   ]
  },
  {
   "cell_type": "code",
   "execution_count": 40,
   "id": "2d87d67b",
   "metadata": {},
   "outputs": [
    {
     "data": {
      "text/plain": [
       "0.0"
      ]
     },
     "execution_count": 40,
     "metadata": {},
     "output_type": "execute_result"
    }
   ],
   "source": [
    "np.sin(0)"
   ]
  },
  {
   "cell_type": "code",
   "execution_count": 41,
   "id": "83863629",
   "metadata": {},
   "outputs": [
    {
     "data": {
      "text/plain": [
       "-0.8011526357338304"
      ]
     },
     "execution_count": 41,
     "metadata": {},
     "output_type": "execute_result"
    }
   ],
   "source": [
    "np.sin(180)"
   ]
  },
  {
   "cell_type": "code",
   "execution_count": 42,
   "id": "d4ba15c0",
   "metadata": {},
   "outputs": [
    {
     "data": {
      "text/plain": [
       "2.718281828459045"
      ]
     },
     "execution_count": 42,
     "metadata": {},
     "output_type": "execute_result"
    }
   ],
   "source": [
    "np.exp(1)"
   ]
  },
  {
   "cell_type": "code",
   "execution_count": 43,
   "id": "3c6ca14a",
   "metadata": {},
   "outputs": [
    {
     "data": {
      "text/plain": [
       "22026.465794806718"
      ]
     },
     "execution_count": 43,
     "metadata": {},
     "output_type": "execute_result"
    }
   ],
   "source": [
    "np.exp(10)"
   ]
  },
  {
   "cell_type": "code",
   "execution_count": 46,
   "id": "4441c76e",
   "metadata": {},
   "outputs": [
    {
     "data": {
      "text/plain": [
       "2.0"
      ]
     },
     "execution_count": 46,
     "metadata": {},
     "output_type": "execute_result"
    }
   ],
   "source": [
    "np.log(np.exp(2))"
   ]
  },
  {
   "cell_type": "code",
   "execution_count": null,
   "id": "0712b64e",
   "metadata": {},
   "outputs": [],
   "source": []
  }
 ],
 "metadata": {
  "kernelspec": {
   "display_name": "Python 3 (ipykernel)",
   "language": "python",
   "name": "python3"
  },
  "language_info": {
   "codemirror_mode": {
    "name": "ipython",
    "version": 3
   },
   "file_extension": ".py",
   "mimetype": "text/x-python",
   "name": "python",
   "nbconvert_exporter": "python",
   "pygments_lexer": "ipython3",
   "version": "3.9.7"
  }
 },
 "nbformat": 4,
 "nbformat_minor": 5
}
